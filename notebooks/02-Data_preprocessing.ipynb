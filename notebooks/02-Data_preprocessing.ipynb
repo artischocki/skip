{
 "cells": [
  {
   "cell_type": "markdown",
   "metadata": {},
   "source": [
    "# 1. Data Preparation\n",
    "Before starting to train the model, some steps need to be done."
   ]
  },
  {
   "cell_type": "markdown",
   "metadata": {},
   "source": [
    "# 1.1. ROI Extraction\n",
    "The images are large in size (above 2000 x 2000 pixels), so it is better to extract the area that is important to us by using a cropping function. This cropping process should be applied to both the image and the respective masks.\n",
    "\n",
    "<div style=\"text-align: center;\">\n",
    "    <img src=\"Images/image-11.png\" alt=\"Alt text\" style=\"display: block; margin: 0 auto;\">\n",
    "</div>\n"
   ]
  },
  {
   "cell_type": "markdown",
   "metadata": {},
   "source": [
    "* TASK:"
   ]
  },
  {
   "cell_type": "code",
   "execution_count": 7,
   "metadata": {},
   "outputs": [],
   "source": [
    "import cv2\n",
    "import os\n",
    "from pathlib import Path\n",
    "from PIL import Image\n",
    "\n",
    "# Input and output directories\n",
    "raw_imgs = Path(\"../images/raw_images\").glob(\"*.jpg\")\n",
    "raw_labels = Path(\"../images/raw_labels\").glob(\"*.png\")\n",
    "cropped_img_dir = Path(\"../images/\") / \"cropped_images\"\n",
    "cropped_label_dir = Path(\"../images/\") / \"cropped_labels\"\n",
    "cropped_img_dir.mkdir(exist_ok=True)\n",
    "cropped_label_dir.mkdir(exist_ok=True)\n",
    "\n",
    "def crop_imgs(input_imgs, output_dir) -> None:\n",
    "   for img_path in input_imgs:\n",
    "      #crop the center section ~> 1400W * 1840H\n",
    "      with Image.open(img_path) as img:\n",
    "         width, height = img.size\n",
    "         left = (width - 1400) // 2\n",
    "         top = (height - 1840) // 2\n",
    "         right = left + 1400\n",
    "         bottom = top + 1840\n",
    "         cropped = img.crop((left, top, right, bottom))\n",
    "         cropped.save(output_dir / img_path.name)\n",
    "   return\n",
    "   \n",
    "crop_imgs(raw_imgs, cropped_img_dir)\n",
    "crop_imgs(raw_labels, cropped_label_dir)"
   ]
  },
  {
   "cell_type": "markdown",
   "metadata": {},
   "source": [
    "# 1.2. Image Format Converting \n",
    "It is recommended to convert the format of both the image and mask to TIFF format, which is suitable for the recommended Convolutional Neural Network (CNN) model."
   ]
  },
  {
   "cell_type": "markdown",
   "metadata": {},
   "source": [
    "* TASK:"
   ]
  },
  {
   "cell_type": "code",
   "execution_count": 8,
   "metadata": {},
   "outputs": [],
   "source": [
    "### Code\n",
    "##ConTif\n",
    "cropped_imgs = Path(\"../images/cropped_images\").glob(\"*.jpg\")\n",
    "cropped_labels = Path(\"../images/cropped_labels\").glob(\"*.png\")\n",
    "tif_img_dir = Path(\"../images/\") / \"tif_images\"\n",
    "tif_label_dir = Path(\"../images/\") / \"tif_labels\"\n",
    "tif_img_dir.mkdir(exist_ok=True)\n",
    "tif_label_dir.mkdir(exist_ok=True)\n",
    "\n",
    "def convert_imgs_to_tif(input_imgs, output_dir) -> None:\n",
    "    for img_path in input_imgs:\n",
    "        # Convert it to Tif\n",
    "        with Image.open(img_path) as img:\n",
    "            tif_name = img_path.stem + \".tif\"\n",
    "            img.save(output_dir / tif_name, format=\"TIFF\")\n",
    "    return\n",
    "\n",
    "convert_imgs_to_tif(cropped_imgs, tif_img_dir)\n",
    "convert_imgs_to_tif(cropped_labels, tif_label_dir)"
   ]
  },
  {
   "cell_type": "markdown",
   "metadata": {},
   "source": [
    "# 1.3. Image Augmentation\n",
    "\n",
    "After extracting the ROI and converting the image and mask to TIFF format, we need to increase our dataset size using augmentation techniques. Here's how you can implement this method, ensuring that the image name and the respective mask name are the same:\n",
    "\n",
    "* Define Augmentation Parameters: Determine the augmentation techniques to apply, such as rotation, flipping, scaling, etc.\n",
    "\n",
    "* Loop Through Images: Iterate through each image and its corresponding mask.\n",
    "\n",
    "* Apply Augmentation: Apply the defined augmentation techniques to both the image and its mask.\n",
    "\n",
    "* Save Augmented Images: Save the augmented images and their masks with the same names as the original images and masks.\n",
    "\n",
    "<div style=\"text-align: center;\">\n",
    "    <img src=\"Images/image-12.png\" alt=\"Alt text\" style=\"display: block; margin: 0 auto;\">\n",
    "</div>"
   ]
  },
  {
   "cell_type": "markdown",
   "metadata": {},
   "source": [
    "* TASK:"
   ]
  },
  {
   "cell_type": "code",
   "execution_count": 9,
   "metadata": {},
   "outputs": [],
   "source": [
    "import numpy as np\n",
    "import random\n",
    "from scipy.ndimage import rotate, gaussian_filter\n",
    "from skimage.util import random_noise\n",
    "from skimage.exposure import adjust_gamma, rescale_intensity\n",
    "\n",
    "# Define functions for each operation\n",
    "\n",
    "def rotation(image, seed):\n",
    "    random.seed(seed)\n",
    "    angle = random.uniform(-180, 180)\n",
    "    return rotate(image, angle, reshape=False, mode='reflect')\n",
    "\n",
    "def h_flip(image, seed):\n",
    "    random.seed(seed)\n",
    "    return np.fliplr(image) if random.random() > 0.5 else image\n",
    "\n",
    "def v_flip(image, seed):\n",
    "    random.seed(seed)\n",
    "    return np.flipud(image) if random.random() > 0.5 else image\n",
    "\n",
    "def add_noise(image, seed):\n",
    "    np.random.seed(seed)\n",
    "    noisy_img = random_noise(image, mode='gaussian', var=0.01)\n",
    "    return np.clip(noisy_img, 0, 1)\n",
    "\n",
    "def adjust_brightness(image, seed):\n",
    "    random.seed(seed)\n",
    "    gamma = random.uniform(0.8, 1.2)\n",
    "    bright_img = adjust_gamma(image, gamma)\n",
    "    return np.clip(bright_img, 0, 1)\n",
    "\n",
    "def adjust_contrast(image, seed):\n",
    "    random.seed(seed)\n",
    "    factor = random.uniform(0.8, 1.2)\n",
    "    contrast_img = rescale_intensity(image, in_range='image', out_range=(0, 1))\n",
    "    mean = np.mean(contrast_img)\n",
    "    contrast_img = np.clip((contrast_img - mean) * factor + mean, 0, 1)\n",
    "    return contrast_img\n",
    "\n",
    "def gaussian_blur(image, seed):\n",
    "    random.seed(seed)\n",
    "    sigma = random.uniform(0.5, 1.5)\n",
    "    blurred_img = gaussian_filter(image, sigma=(sigma, sigma, 0))  # No blur on channels\n",
    "    return blurred_img\n"
   ]
  },
  {
   "cell_type": "markdown",
   "metadata": {},
   "source": [
    "* TASK:"
   ]
  },
  {
   "cell_type": "code",
   "execution_count": null,
   "metadata": {},
   "outputs": [
    {
     "name": "stderr",
     "output_type": "stream",
     "text": [
      "0it [00:00, ?it/s]"
     ]
    },
    {
     "name": "stdout",
     "output_type": "stream",
     "text": [
      "image0002687.tif image0002687_Label.tif\n"
     ]
    },
    {
     "name": "stderr",
     "output_type": "stream",
     "text": []
    },
    {
     "name": "stderr",
     "output_type": "stream",
     "text": [
      "100%|██████████| 6/6 [00:05<00:00,  1.18it/s]\n",
      "1it [00:05,  5.12s/it]"
     ]
    },
    {
     "name": "stdout",
     "output_type": "stream",
     "text": [
      "image0002721.tif image0002721_Label.tif\n"
     ]
    },
    {
     "name": "stderr",
     "output_type": "stream",
     "text": [
      "100%|██████████| 6/6 [00:05<00:00,  1.14it/s]\n",
      "2it [00:10,  5.20s/it]"
     ]
    },
    {
     "name": "stdout",
     "output_type": "stream",
     "text": [
      "image0002743.tif image0002743_Label.tif\n"
     ]
    },
    {
     "name": "stderr",
     "output_type": "stream",
     "text": [
      "100%|██████████| 6/6 [00:04<00:00,  1.25it/s]\n",
      "3it [00:15,  5.02s/it]"
     ]
    },
    {
     "name": "stdout",
     "output_type": "stream",
     "text": [
      "image0002771.tif image0002771_Label.tif\n"
     ]
    },
    {
     "name": "stderr",
     "output_type": "stream",
     "text": [
      "100%|██████████| 6/6 [00:02<00:00,  2.40it/s]\n",
      "4it [00:17,  4.04s/it]"
     ]
    },
    {
     "name": "stdout",
     "output_type": "stream",
     "text": [
      "image0002799.tif image0002799_Label.tif\n"
     ]
    },
    {
     "name": "stderr",
     "output_type": "stream",
     "text": [
      "100%|██████████| 6/6 [00:02<00:00,  2.08it/s]\n",
      "5it [00:20,  3.63s/it]"
     ]
    },
    {
     "name": "stdout",
     "output_type": "stream",
     "text": [
      "image0002831.tif image0002831_Label.tif\n"
     ]
    },
    {
     "name": "stderr",
     "output_type": "stream",
     "text": [
      "100%|██████████| 6/6 [00:05<00:00,  1.13it/s]\n",
      "6it [00:25,  4.21s/it]"
     ]
    },
    {
     "name": "stdout",
     "output_type": "stream",
     "text": [
      "image0002858.tif image0002858_Label.tif\n"
     ]
    },
    {
     "name": "stderr",
     "output_type": "stream",
     "text": [
      "100%|██████████| 6/6 [00:04<00:00,  1.35it/s]\n",
      "7it [00:30,  4.29s/it]"
     ]
    },
    {
     "name": "stdout",
     "output_type": "stream",
     "text": [
      "image0002882.tif image0002882_Label.tif\n"
     ]
    },
    {
     "name": "stderr",
     "output_type": "stream",
     "text": [
      "100%|██████████| 6/6 [00:02<00:00,  2.19it/s]\n",
      "8it [00:33,  3.80s/it]"
     ]
    },
    {
     "name": "stdout",
     "output_type": "stream",
     "text": [
      "image0002906.tif image0002906_Label.tif\n"
     ]
    },
    {
     "name": "stderr",
     "output_type": "stream",
     "text": [
      "100%|██████████| 6/6 [00:03<00:00,  1.71it/s]\n",
      "9it [00:36,  3.72s/it]"
     ]
    },
    {
     "name": "stdout",
     "output_type": "stream",
     "text": [
      "image0002931.tif image0002931_Label.tif\n"
     ]
    },
    {
     "name": "stderr",
     "output_type": "stream",
     "text": [
      "100%|██████████| 6/6 [00:02<00:00,  2.38it/s]\n",
      "10it [00:39,  3.36s/it]"
     ]
    },
    {
     "name": "stdout",
     "output_type": "stream",
     "text": [
      "image0002955.tif image0002955_Label.tif\n"
     ]
    },
    {
     "name": "stderr",
     "output_type": "stream",
     "text": [
      "100%|██████████| 6/6 [00:04<00:00,  1.32it/s]\n",
      "11it [00:43,  3.72s/it]"
     ]
    },
    {
     "name": "stdout",
     "output_type": "stream",
     "text": [
      "image0002979.tif image0002979_Label.tif\n"
     ]
    },
    {
     "name": "stderr",
     "output_type": "stream",
     "text": [
      "100%|██████████| 6/6 [00:04<00:00,  1.43it/s]\n",
      "12it [00:47,  3.87s/it]"
     ]
    },
    {
     "name": "stdout",
     "output_type": "stream",
     "text": [
      "image0003006.tif image0003006_Label.tif\n"
     ]
    },
    {
     "name": "stderr",
     "output_type": "stream",
     "text": [
      "100%|██████████| 6/6 [00:04<00:00,  1.29it/s]\n",
      "13it [00:52,  4.11s/it]"
     ]
    },
    {
     "name": "stdout",
     "output_type": "stream",
     "text": [
      "image0003042.tif image0003042_Label.tif\n"
     ]
    },
    {
     "name": "stderr",
     "output_type": "stream",
     "text": [
      "100%|██████████| 6/6 [00:02<00:00,  2.07it/s]\n",
      "14it [00:55,  3.75s/it]"
     ]
    },
    {
     "name": "stdout",
     "output_type": "stream",
     "text": [
      "image0003070.tif image0003070_Label.tif\n"
     ]
    },
    {
     "name": "stderr",
     "output_type": "stream",
     "text": [
      "100%|██████████| 6/6 [00:03<00:00,  1.76it/s]\n",
      "15it [00:58,  3.65s/it]"
     ]
    },
    {
     "name": "stdout",
     "output_type": "stream",
     "text": [
      "image0003098.tif image0003098_Label.tif\n"
     ]
    },
    {
     "name": "stderr",
     "output_type": "stream",
     "text": [
      "100%|██████████| 6/6 [00:02<00:00,  2.27it/s]\n",
      "16it [01:01,  3.35s/it]"
     ]
    },
    {
     "name": "stdout",
     "output_type": "stream",
     "text": [
      "image0003126.tif image0003126_Label.tif\n"
     ]
    },
    {
     "name": "stderr",
     "output_type": "stream",
     "text": [
      "100%|██████████| 6/6 [00:03<00:00,  1.96it/s]\n",
      "17it [01:04,  3.27s/it]"
     ]
    },
    {
     "name": "stdout",
     "output_type": "stream",
     "text": [
      "image0003154.tif image0003154_Label.tif\n"
     ]
    },
    {
     "name": "stderr",
     "output_type": "stream",
     "text": [
      "100%|██████████| 6/6 [00:02<00:00,  2.24it/s]\n",
      "18it [01:07,  3.10s/it]"
     ]
    },
    {
     "name": "stdout",
     "output_type": "stream",
     "text": [
      "image0003182.tif image0003182_Label.tif\n"
     ]
    },
    {
     "name": "stderr",
     "output_type": "stream",
     "text": [
      "100%|██████████| 6/6 [00:03<00:00,  1.99it/s]\n",
      "19it [01:10,  3.08s/it]"
     ]
    },
    {
     "name": "stdout",
     "output_type": "stream",
     "text": [
      "image0003210.tif image0003210_Label.tif\n"
     ]
    },
    {
     "name": "stderr",
     "output_type": "stream",
     "text": [
      "100%|██████████| 6/6 [00:02<00:00,  2.02it/s]\n",
      "20it [01:13,  3.06s/it]"
     ]
    },
    {
     "name": "stdout",
     "output_type": "stream",
     "text": [
      "image0003234.tif image0003234_Label.tif\n"
     ]
    },
    {
     "name": "stderr",
     "output_type": "stream",
     "text": [
      "100%|██████████| 6/6 [00:02<00:00,  2.31it/s]\n",
      "21it [01:16,  2.92s/it]"
     ]
    },
    {
     "name": "stdout",
     "output_type": "stream",
     "text": [
      "image0003258.tif image0003258_Label.tif\n"
     ]
    },
    {
     "name": "stderr",
     "output_type": "stream",
     "text": [
      "100%|██████████| 6/6 [00:02<00:00,  2.22it/s]\n",
      "22it [01:18,  2.86s/it]"
     ]
    },
    {
     "name": "stdout",
     "output_type": "stream",
     "text": [
      "image0003282.tif image0003282_Label.tif\n"
     ]
    },
    {
     "name": "stderr",
     "output_type": "stream",
     "text": [
      "100%|██████████| 6/6 [00:03<00:00,  1.64it/s]\n",
      "23it [01:22,  3.11s/it]"
     ]
    },
    {
     "name": "stdout",
     "output_type": "stream",
     "text": [
      "image0003310.tif image0003310_Label.tif\n"
     ]
    },
    {
     "name": "stderr",
     "output_type": "stream",
     "text": [
      "100%|██████████| 6/6 [00:02<00:00,  2.46it/s]\n",
      "24it [01:24,  2.92s/it]"
     ]
    },
    {
     "name": "stdout",
     "output_type": "stream",
     "text": [
      "image0003318.tif image0003318_Label.tif\n"
     ]
    },
    {
     "name": "stderr",
     "output_type": "stream",
     "text": [
      "100%|██████████| 6/6 [00:03<00:00,  1.96it/s]\n",
      "25it [01:28,  2.97s/it]"
     ]
    },
    {
     "name": "stdout",
     "output_type": "stream",
     "text": [
      "image0003323.tif image0003323_Label.tif\n"
     ]
    },
    {
     "name": "stderr",
     "output_type": "stream",
     "text": [
      "100%|██████████| 6/6 [00:02<00:00,  2.61it/s]\n",
      "26it [01:30,  2.77s/it]"
     ]
    },
    {
     "name": "stdout",
     "output_type": "stream",
     "text": [
      "image0003334.tif image0003334_Label.tif\n"
     ]
    },
    {
     "name": "stderr",
     "output_type": "stream",
     "text": [
      "100%|██████████| 6/6 [00:03<00:00,  1.99it/s]\n",
      "27it [01:33,  2.85s/it]"
     ]
    },
    {
     "name": "stdout",
     "output_type": "stream",
     "text": [
      "image0003362.tif image0003362_Label.tif\n"
     ]
    },
    {
     "name": "stderr",
     "output_type": "stream",
     "text": [
      "100%|██████████| 6/6 [00:04<00:00,  1.31it/s]\n",
      "28it [01:38,  3.38s/it]"
     ]
    },
    {
     "name": "stdout",
     "output_type": "stream",
     "text": [
      "image0003390.tif image0003390_Label.tif\n"
     ]
    },
    {
     "name": "stderr",
     "output_type": "stream",
     "text": [
      "100%|██████████| 6/6 [00:02<00:00,  2.04it/s]\n",
      "29it [01:40,  3.25s/it]"
     ]
    },
    {
     "name": "stdout",
     "output_type": "stream",
     "text": [
      "image0003401.tif image0003401_Label.tif\n"
     ]
    },
    {
     "name": "stderr",
     "output_type": "stream",
     "text": [
      "100%|██████████| 6/6 [00:03<00:00,  1.81it/s]\n",
      "30it [01:44,  3.28s/it]"
     ]
    },
    {
     "name": "stdout",
     "output_type": "stream",
     "text": [
      "image0003418.tif image0003418_Label.tif\n"
     ]
    },
    {
     "name": "stderr",
     "output_type": "stream",
     "text": [
      "100%|██████████| 6/6 [00:03<00:00,  1.60it/s]\n",
      "31it [01:48,  3.43s/it]"
     ]
    },
    {
     "name": "stdout",
     "output_type": "stream",
     "text": [
      "image0003440.tif image0003440_Label.tif\n"
     ]
    },
    {
     "name": "stderr",
     "output_type": "stream",
     "text": [
      "100%|██████████| 6/6 [00:03<00:00,  1.96it/s]\n",
      "32it [01:51,  3.33s/it]"
     ]
    },
    {
     "name": "stdout",
     "output_type": "stream",
     "text": [
      "image0003446.tif image0003446_Label.tif\n"
     ]
    },
    {
     "name": "stderr",
     "output_type": "stream",
     "text": [
      "100%|██████████| 6/6 [00:04<00:00,  1.32it/s]\n",
      "33it [01:55,  3.70s/it]"
     ]
    },
    {
     "name": "stdout",
     "output_type": "stream",
     "text": [
      "image0003478.tif image0003478_Label.tif\n"
     ]
    },
    {
     "name": "stderr",
     "output_type": "stream",
     "text": [
      "100%|██████████| 6/6 [00:04<00:00,  1.30it/s]\n",
      "34it [02:00,  3.98s/it]"
     ]
    },
    {
     "name": "stdout",
     "output_type": "stream",
     "text": [
      "image0003483.tif image0003483_Label.tif\n"
     ]
    },
    {
     "name": "stderr",
     "output_type": "stream",
     "text": [
      "100%|██████████| 6/6 [00:02<00:00,  2.19it/s]\n",
      "35it [02:03,  3.52s/it]\n"
     ]
    }
   ],
   "source": [
    "from tqdm import tqdm\n",
    "\n",
    "###Use the functions to implement the augmentation for both images and masks\n",
    "transformations = {\n",
    "    'rot': rotation,\n",
    "    'hflip': h_flip,\n",
    "    'vflip': v_flip,\n",
    "    # \"noise\": add_noise,\n",
    "    # \"brightness\": adjust_brightness,\n",
    "    # \"contrast\": adjust_contrast,\n",
    "    # \"blur\": gaussian_blur\n",
    "}\n",
    "tif_img_dir = \"../images/tif_images\"\n",
    "tif_label_dir = \"../images/tif_labels\"\n",
    "tif_imgs = sorted(os.listdir(tif_img_dir))\n",
    "tif_labels = sorted(os.listdir(tif_label_dir))\n",
    "augmented_img_dir = Path(\"../images/\") / \"augmented_images\"\n",
    "augmented_label_dir = Path(\"../images/\") / \"augmented_labels\"\n",
    "augmented_img_dir.mkdir(exist_ok=True)\n",
    "augmented_label_dir.mkdir(exist_ok=True)\n",
    "\n",
    "for img_name, label_name in tqdm(zip(tif_imgs, tif_labels)):\n",
    "    img_path = Path(tif_img_dir) / img_name\n",
    "    label_path = Path(tif_label_dir) / label_name\n",
    "    img = np.array(Image.open(img_path))\n",
    "    label = np.array(Image.open(label_path))\n",
    "\n",
    "    for t_name, t_func in tqdm(transformations.items()):\n",
    "        seed = random.randint(0, 10000)  # Same seed for image and mask\n",
    "\n",
    "        aug_img = t_func(img, seed)\n",
    "        aug_msk = t_func(label, seed)\n",
    "\n",
    "        # Save augmented versions\n",
    "        aug_img_pil = Image.fromarray(aug_img.astype(np.uint8))\n",
    "        aug_label_pil = Image.fromarray(aug_msk.astype(np.uint8))\n",
    "        aug_img_pil.save(augmented_img_dir / f\"{t_name}_{img_path.name}\")\n",
    "        aug_label_pil.save(augmented_label_dir / f\"{t_name}_{label_path.name}\")"
   ]
  }
 ],
 "metadata": {
  "kernelspec": {
   "display_name": "kip-9V1Xe1K5-py3.12",
   "language": "python",
   "name": "python3"
  },
  "language_info": {
   "codemirror_mode": {
    "name": "ipython",
    "version": 3
   },
   "file_extension": ".py",
   "mimetype": "text/x-python",
   "name": "python",
   "nbconvert_exporter": "python",
   "pygments_lexer": "ipython3",
   "version": "3.12.10"
  },
  "orig_nbformat": 4
 },
 "nbformat": 4,
 "nbformat_minor": 2
}
